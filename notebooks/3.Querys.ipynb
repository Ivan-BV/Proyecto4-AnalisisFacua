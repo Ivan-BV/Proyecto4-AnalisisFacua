{
 "cells": [
  {
   "cell_type": "code",
   "execution_count": 2,
   "metadata": {},
   "outputs": [],
   "source": [
    "import pandas as pd\n",
    "from datetime import datetime\n",
    "import sys\n",
    "sys.path.append(\"../\")\n",
    "from src.soporte_querys import extraer_datos"
   ]
  },
  {
   "cell_type": "markdown",
   "metadata": {},
   "source": [
    "# Querys para el analisis de los datos"
   ]
  },
  {
   "cell_type": "code",
   "execution_count": 6,
   "metadata": {},
   "outputs": [],
   "source": [
    "# Extracción de todos los precios\n",
    "df_precios = pd.DataFrame()\n",
    "resultado = []\n",
    "for n in range(1, 4):\n",
    "    query_precios = f'''SELECT\n",
    "\ts.nombre_supermercado, \n",
    "\tc.nombre_categoria ,\n",
    "\tp.nombre_producto,\n",
    "\tph.precio\n",
    "    FROM precioshistoricos ph\n",
    "    NATURAL JOIN productos p\n",
    "    NATURAL JOIN supermercados s \n",
    "    NATURAL JOIN categorias c \n",
    "    WHERE id_categoria = {n}\n",
    "    GROUP BY s.nombre_supermercado, p.nombre_producto, c.nombre_categoria, ph.precio\n",
    "    ORDER BY s.nombre_supermercado  \n",
    "    '''\n",
    "    df_resultados = pd.DataFrame(extraer_datos(\"proyecto4\", query_precios))\n",
    "    df_precios = pd.concat([df_precios, df_resultados], axis=0)\n",
    "df_precios.rename(columns={0: \"supermercado\", 1: \"categoria\", 2: \"producto\", 3: \"precio\"}, inplace=True)"
   ]
  },
  {
   "cell_type": "code",
   "execution_count": 9,
   "metadata": {},
   "outputs": [],
   "source": [
    "# Ordenamos por dataframe los precios más bajos\n",
    "condicion = df_precios[\"categoria\"] == \"Aceite de girasol\"\n",
    "df_aceite_girasol = df_precios[condicion][[\"supermercado\", \"precio\"]]\n",
    "condicion = df_precios[\"categoria\"] == \"Aceite de oliva\"\n",
    "df_aceite_oliva = df_precios[condicion][[\"supermercado\", \"precio\"]]\n",
    "condicion = df_precios[\"categoria\"] == \"Leche\"\n",
    "df_leche = df_precios[condicion][[\"supermercado\", \"precio\"]]\n",
    "\n",
    "# Guardamos los datos en sus distintos csv\n",
    "df_aceite_girasol.to_csv(\"../datos/output/precios_aceite_girasol.csv\")\n",
    "df_aceite_oliva.to_csv(\"../datos/output/precios_aceite_oliva.csv\")\n",
    "df_leche.to_csv(\"../datos/output/precios_leche.csv\")"
   ]
  },
  {
   "cell_type": "code",
   "execution_count": 3,
   "metadata": {},
   "outputs": [],
   "source": [
    "# Extraemos los precios más bajos\n",
    "df_precios_bajos = pd.DataFrame()\n",
    "resultado = []\n",
    "for n in range(1, 4):\n",
    "    query_precio_min = f'''SELECT\n",
    "\ts.nombre_supermercado, \n",
    "\tc.nombre_categoria ,\n",
    "\tp.nombre_producto,\n",
    "\tmin(ph.precio) AS precio_más_bajo\n",
    "    FROM precioshistoricos ph\n",
    "    NATURAL JOIN productos p\n",
    "    NATURAL JOIN supermercados s \n",
    "    NATURAL JOIN categorias c \n",
    "    WHERE id_categoria = {n}\n",
    "    GROUP BY s.nombre_supermercado, p.nombre_producto, c.nombre_categoria \n",
    "    ORDER BY s.nombre_supermercado \n",
    "    '''\n",
    "    df_resultados = pd.DataFrame(extraer_datos(\"proyecto4\", query_precio_min))\n",
    "    df_precios_bajos = pd.concat([df_precios_bajos, df_resultados], axis=0)\n",
    "df_precios_bajos.rename(columns={0: \"supermercado\", 1: \"categoria\", 2: \"producto\", 3: \"precio_min\"}, inplace=True)"
   ]
  },
  {
   "cell_type": "code",
   "execution_count": 3,
   "metadata": {},
   "outputs": [],
   "source": [
    "# Ordenamos por dataframe los precios más bajos\n",
    "condicion = df_precios_bajos[\"categoria\"] == \"Aceite de girasol\"\n",
    "df_aceite_girasol_min = df_precios_bajos[condicion]\n",
    "condicion = df_precios_bajos[\"categoria\"] == \"Aceite de oliva\"\n",
    "df_aceite_oliva_min = df_precios_bajos[condicion]\n",
    "condicion = df_precios_bajos[\"categoria\"] == \"Leche\"\n",
    "df_leche_min = df_precios_bajos[condicion]\n",
    "\n",
    "# Generamos la media\n",
    "df_media_aceite_girasol_min = extraer_media(df_aceite_girasol_min, \"precio_min\", \"media_precio_min\")\n",
    "df_media_aceite_oliva_min = extraer_media(df_aceite_oliva_min, \"precio_min\", \"media_precio_min\")\n",
    "df_media_leche_min = extraer_media(df_leche_min, \"precio_min\", \"media_precio_min\")\n",
    "\n",
    "# Guardamos los datos en sus distintos csv\n",
    "df_media_aceite_girasol_min.to_csv(\"../datos/output/media_min_aceite_girasol.csv\")\n",
    "df_media_aceite_oliva_min.to_csv(\"../datos/output/media_min_aceite_oliva.csv\")\n",
    "df_media_leche_min.to_csv(\"../datos/output/media_min_leche.csv\")"
   ]
  },
  {
   "cell_type": "code",
   "execution_count": 4,
   "metadata": {},
   "outputs": [],
   "source": [
    "# Extraemos los precios más altos\n",
    "df_precios_altos = pd.DataFrame()\n",
    "for n in range(1, 4):\n",
    "    query_precio_max = f'''SELECT\n",
    "\ts.nombre_supermercado, \n",
    "\tc.nombre_categoria ,\n",
    "\tp.nombre_producto,\n",
    "\tmax(ph.precio) AS precio_mas_alto\n",
    "    FROM precioshistoricos ph\n",
    "    NATURAL JOIN productos p\n",
    "    NATURAL JOIN supermercados s \n",
    "    NATURAL JOIN categorias c \n",
    "    WHERE id_categoria = {n}\n",
    "    GROUP BY s.nombre_supermercado, p.nombre_producto, c.nombre_categoria \n",
    "    ORDER BY s.nombre_supermercado \n",
    "    '''\n",
    "    df_resultados = pd.DataFrame(extraer_datos(\"proyecto4\", query_precio_max))\n",
    "    df_precios_altos = pd.concat([df_precios_altos, df_resultados], axis=0)\n",
    "df_precios_altos.rename(columns={0: \"supermercado\", 1: \"categoria\", 2: \"producto\", 3: \"precio_max\"}, inplace=True)"
   ]
  },
  {
   "cell_type": "code",
   "execution_count": 5,
   "metadata": {},
   "outputs": [],
   "source": [
    "# Ordenamos por dataframe los precios más altos\n",
    "condicion = df_precios_altos[\"categoria\"] == \"Aceite de girasol\"\n",
    "df_aceite_girasol_max = df_precios_altos[condicion]\n",
    "condicion = df_precios_altos[\"categoria\"] == \"Aceite de oliva\"\n",
    "df_aceite_oliva_max = df_precios_altos[condicion]\n",
    "condicion = df_precios_altos[\"categoria\"] == \"Leche\"\n",
    "df_leche_max = df_precios_altos[condicion]\n",
    "\n",
    "# Generamos la media\n",
    "#df_media_aceite_girasol_max = extraer_media(df_aceite_girasol_max, \"precio_max\", \"media_precio_max\")\n",
    "#df_media_aceite_oliva_max = extraer_media(df_aceite_oliva_max, \"precio_max\", \"media_precio_max\")\n",
    "#df_media_leche_max = extraer_media(df_leche_max, \"precio_max\", \"media_precio_max\")\n",
    "\n",
    "# Guardamos los datos en sus distintos csv\n",
    "#df_media_aceite_girasol_max.to_csv(\"../datos/output/media_max_aceite_girasol.csv\")\n",
    "#df_media_aceite_oliva_max.to_csv(\"../datos/output/media_max_aceite_oliva.csv\")\n",
    "#df_media_leche_max.to_csv(\"../datos/output/media_max_leche.csv\")"
   ]
  }
 ],
 "metadata": {
  "kernelspec": {
   "display_name": "proyecto4",
   "language": "python",
   "name": "python3"
  },
  "language_info": {
   "codemirror_mode": {
    "name": "ipython",
    "version": 3
   },
   "file_extension": ".py",
   "mimetype": "text/x-python",
   "name": "python",
   "nbconvert_exporter": "python",
   "pygments_lexer": "ipython3",
   "version": "3.12.7"
  }
 },
 "nbformat": 4,
 "nbformat_minor": 2
}
